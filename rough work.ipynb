{
 "cells": [
  {
   "cell_type": "code",
   "execution_count": 4,
   "id": "054bacfd-c2db-4876-9559-7fd9fd307896",
   "metadata": {},
   "outputs": [
    {
     "data": {
      "text/plain": [
       "np.float64(0.8336546070121552)"
      ]
     },
     "execution_count": 4,
     "metadata": {},
     "output_type": "execute_result"
    }
   ],
   "source": [
    "import numpy as np\n",
    "σ = np.tanh\n",
    "w1 = 1.3\n",
    "b1 = -0.1\n",
    "\n",
    "# Then we define the neuron activation.\n",
    "def a1(a0) :\n",
    "  z = w1 * a0 + b1\n",
    "  return σ(z)\n",
    "\n",
    "# Experiment with different values of x below.\n",
    "x = 1\n",
    "a1(x)"
   ]
  },
  {
   "cell_type": "code",
   "execution_count": 3,
   "id": "cdd0fe52-ad33-4205-9932-0791552411d6",
   "metadata": {},
   "outputs": [
    {
     "data": {
      "text/plain": [
       "1.209269698402472"
      ]
     },
     "execution_count": 3,
     "metadata": {},
     "output_type": "execute_result"
    }
   ],
   "source": [
    "(-0.09966799462495582-1)*(-0.09966799462495582-1) # x = 0"
   ]
  },
  {
   "cell_type": "code",
   "execution_count": 5,
   "id": "d608809b-1b78-4504-a1ca-aa00b9780ced",
   "metadata": {},
   "outputs": [
    {
     "data": {
      "text/plain": [
       "0.694980003792591"
      ]
     },
     "execution_count": 5,
     "metadata": {},
     "output_type": "execute_result"
    }
   ],
   "source": [
    "0.8336546070121552 * 0.8336546070121552 # x = 1"
   ]
  },
  {
   "cell_type": "code",
   "execution_count": 6,
   "id": "9a445593-7bfe-4917-abb9-66a415d7e7bb",
   "metadata": {},
   "outputs": [
    {
     "data": {
      "text/plain": [
       "<ufunc 'tanh'>"
      ]
     },
     "execution_count": 6,
     "metadata": {},
     "output_type": "execute_result"
    }
   ],
   "source": [
    "np.tanh"
   ]
  },
  {
   "cell_type": "code",
   "execution_count": 7,
   "id": "4810e639-223c-4329-95e0-704b491a3187",
   "metadata": {},
   "outputs": [
    {
     "name": "stdout",
     "output_type": "stream",
     "text": [
      "-1.1186026425530913\n"
     ]
    }
   ],
   "source": [
    "# First define our sigma function.\n",
    "sigma = np.tanh\n",
    "\n",
    "# Next define the feed-forward equation.\n",
    "def a1 (w1, b1, a0) :\n",
    "  z = w1 * a0 + b1\n",
    "  return sigma(z)\n",
    "\n",
    "# The individual cost function is the square of the difference between\n",
    "# the network output and the training data output.\n",
    "def C (w1, b1, x, y) :\n",
    "  return (a1(w1, b1, x) - y)**2\n",
    "\n",
    "# This function returns the derivative of the cost function with\n",
    "# respect to the weight.\n",
    "def dCdw (w1, b1, x, y) :\n",
    "  z = w1 * x + b1\n",
    "  dCda = 2 * (a1(w1, b1, x) - y) # Derivative of cost with activation\n",
    "  dadz = 1/np.cosh(z)**2 # derivative of activation with weighted sum z\n",
    "  dzdw = x # derivative of weighted sum z with weight\n",
    "  return dCda * dadz * dzdw # Return the chain rule product.\n",
    "\n",
    "# This function returns the derivative of the cost function with\n",
    "# respect to the bias.\n",
    "# It is very similar to the previous function.\n",
    "# You should complete this function.\n",
    "def dCdb (w1, b1, x, y) :\n",
    "  z = w1 * x + b1\n",
    "  dCda = 2 * (a1(w1, b1, x) - y)\n",
    "  dadz = 1/np.cosh(z)**2\n",
    "  \"\"\" Change the next line to give the derivative of\n",
    "      the weighted sum, z, with respect to the bias, b. \"\"\"\n",
    "  dzdb = 1\n",
    "  return dCda * dadz * dzdb\n",
    "\n",
    "\"\"\"Test your code before submission:\"\"\"\n",
    "# Let's start with an unfit weight and bias.\n",
    "w1 = 2.3\n",
    "b1 = -1.2\n",
    "# We can test on a single data point pair of x and y.\n",
    "x = 0\n",
    "y = 1\n",
    "# Output how the cost would change\n",
    "# in proportion to a small change in the bias\n",
    "print( dCdb(w1, b1, x, y) )\n"
   ]
  },
  {
   "cell_type": "code",
   "execution_count": 10,
   "id": "41d4a0f1-b406-46ae-8973-8dff3c295a6d",
   "metadata": {},
   "outputs": [
    {
     "data": {
      "text/plain": [
       "np.float64(0.2260486030688712)"
      ]
     },
     "execution_count": 10,
     "metadata": {},
     "output_type": "execute_result"
    }
   ],
   "source": [
    "# Define the activation function.\n",
    "sigma = np.tanh\n",
    "\n",
    "# Let's use a random initial weight and bias.\n",
    "W = np.array([[-0.94529712, -0.2667356 , -0.91219181],\n",
    "              [ 2.05529992,  1.21797092,  0.22914497]])\n",
    "b = np.array([ 0.61273249,  1.6422662 ])\n",
    "\n",
    "# define our feed forward function\n",
    "def a1 (a0) :\n",
    "  # Notice the next line is almost the same as previously,\n",
    "  # except we are using matrix multiplication rather than scalar multiplication\n",
    "  # hence the '@' operator, and not the '*' operator.\n",
    "  z = W @ a0 + b\n",
    "  # Everything else is the same though,\n",
    "  return sigma(z)\n",
    "\n",
    "# Next, if a training example is,\n",
    "x = np.array([0.1, 0.5, 0.6])\n",
    "y = np.array([0.25, 0.75])\n",
    "\n",
    "# Then the cost function is,\n",
    "d = a1(x) - y # Vector difference between observed and expected activation\n",
    "C = d @ d # Absolute value squared of the difference.\n",
    "C"
   ]
  },
  {
   "cell_type": "code",
   "execution_count": 4,
   "id": "4e8d0a2b-947a-43e4-b484-2696fba6a4b3",
   "metadata": {},
   "outputs": [
    {
     "data": {
      "text/plain": [
       "-2.0"
      ]
     },
     "execution_count": 4,
     "metadata": {},
     "output_type": "execute_result"
    }
   ],
   "source": [
    "(1/6) - 3 - (2/3) + (27/2) + 18 - 30"
   ]
  },
  {
   "cell_type": "code",
   "execution_count": 5,
   "id": "6dcb337d-1266-4e8a-877c-5ad75a288910",
   "metadata": {},
   "outputs": [
    {
     "data": {
      "text/plain": [
       "32"
      ]
     },
     "execution_count": 5,
     "metadata": {},
     "output_type": "execute_result"
    }
   ],
   "source": [
    "1 - 12 - 2 + 27 + 18"
   ]
  },
  {
   "cell_type": "code",
   "execution_count": 7,
   "id": "cf2490c0-4c20-450f-b9d9-7c02c402f853",
   "metadata": {},
   "outputs": [
    {
     "data": {
      "text/plain": [
       "-0.0625"
      ]
     },
     "execution_count": 7,
     "metadata": {},
     "output_type": "execute_result"
    }
   ],
   "source": [
    "(-2) / 32"
   ]
  },
  {
   "cell_type": "code",
   "execution_count": 8,
   "id": "75a735a7-74fc-4776-975c-ac47a67a4570",
   "metadata": {},
   "outputs": [
    {
     "data": {
      "text/plain": [
       "1.0625"
      ]
     },
     "execution_count": 8,
     "metadata": {},
     "output_type": "execute_result"
    }
   ],
   "source": [
    "1 + 0.0625"
   ]
  },
  {
   "cell_type": "code",
   "execution_count": 10,
   "id": "4337e203-4a1d-4a19-aa36-e0f27661e467",
   "metadata": {},
   "outputs": [],
   "source": [
    "from sympy import symbols, solve"
   ]
  },
  {
   "cell_type": "code",
   "execution_count": 12,
   "id": "34f1b4da-9d80-48cd-9f38-936743fb2316",
   "metadata": {},
   "outputs": [
    {
     "data": {
      "text/plain": [
       "[-3, -1, 2, 3]"
      ]
     },
     "execution_count": 12,
     "metadata": {},
     "output_type": "execute_result"
    }
   ],
   "source": [
    "x = symbols('x')\n",
    "expr = x**5 - 12*x**3 - 2*x**2 + 27*x + 18\n",
    "solve(expr)"
   ]
  },
  {
   "cell_type": "code",
   "execution_count": null,
   "id": "ec43cf52-35bc-4678-9600-10c70f0f74a9",
   "metadata": {},
   "outputs": [],
   "source": []
  }
 ],
 "metadata": {
  "kernelspec": {
   "display_name": "Python 3.11.6",
   "language": "python",
   "name": "python3.11.6"
  },
  "language_info": {
   "codemirror_mode": {
    "name": "ipython",
    "version": 3
   },
   "file_extension": ".py",
   "mimetype": "text/x-python",
   "name": "python",
   "nbconvert_exporter": "python",
   "pygments_lexer": "ipython3",
   "version": "3.11.6"
  }
 },
 "nbformat": 4,
 "nbformat_minor": 5
}
